{
 "cells": [
  {
   "cell_type": "code",
   "execution_count": 162,
   "metadata": {},
   "outputs": [],
   "source": [
    "import pandas as pd\n",
    "from math import sqrt\n",
    "import numpy as np"
   ]
  },
  {
   "cell_type": "code",
   "execution_count": 163,
   "metadata": {},
   "outputs": [
    {
     "name": "stdout",
     "output_type": "stream",
     "text": [
      "<class 'pandas.core.frame.DataFrame'>\n",
      "RangeIndex: 17770 entries, 0 to 17769\n",
      "Data columns (total 3 columns):\n",
      " #   Column    Non-Null Count  Dtype \n",
      "---  ------    --------------  ----- \n",
      " 0   Movie_ID  17770 non-null  int64 \n",
      " 1   Year      17770 non-null  int64 \n",
      " 2   Name      17770 non-null  object\n",
      "dtypes: int64(2), object(1)\n",
      "memory usage: 416.6+ KB\n",
      "None\n"
     ]
    }
   ],
   "source": [
    "movies_df = pd.read_csv('Netflix_Dataset_Movie.csv')\n",
    "Ratings_df = pd.read_csv('Netflix_Dataset_Rating.csv')\n",
    "print(movies_df.info())"
   ]
  },
  {
   "cell_type": "code",
   "execution_count": 164,
   "metadata": {},
   "outputs": [
    {
     "name": "stdout",
     "output_type": "stream",
     "text": [
      "                            Name  Rating\n",
      "0                    Dragonheart     5.0\n",
      "1                    Sea of Love     1.0\n",
      "2             The Color of Money     1.0\n",
      "3                      Superstar     5.0\n",
      "4                        Scandal     4.5\n",
      "5  National Lampoon's Van Wilder     1.0\n"
     ]
    }
   ],
   "source": [
    "userInput = [{'Name':'Dragonheart', 'Rating':5},\n",
    "             {'Name':'Sea of Love', 'Rating':1},\n",
    "             {'Name':'The Color of Money', 'Rating':1},\n",
    "             {'Name':'Superstar', 'Rating':5},\n",
    "             {'Name':'Scandal', 'Rating':4.5},\n",
    "             {'Name':\"National Lampoon's Van Wilder\", 'Rating':1}]\n",
    "\n",
    "inputMovies = pd.DataFrame(userInput)\n",
    "print(inputMovies)\n"
   ]
  },
  {
   "cell_type": "code",
   "execution_count": 165,
   "metadata": {},
   "outputs": [
    {
     "name": "stdout",
     "output_type": "stream",
     "text": [
      "   Movie_ID                           Name  Rating\n",
      "0        58                    Dragonheart     5.0\n",
      "1       110                        Scandal     4.5\n",
      "2       599                    Sea of Love     1.0\n",
      "3      1502                      Superstar     5.0\n",
      "4      1509  National Lampoon's Van Wilder     1.0\n",
      "5      2139             The Color of Money     1.0\n"
     ]
    },
    {
     "name": "stderr",
     "output_type": "stream",
     "text": [
      "C:\\Users\\Ultra White\\AppData\\Local\\Temp\\ipykernel_17724\\3613668565.py:3: FutureWarning: In a future version of pandas all arguments of DataFrame.drop except for the argument 'labels' will be keyword-only.\n",
      "  inputMovies = inputMovies.drop('Year', 1)\n"
     ]
    }
   ],
   "source": [
    "\n",
    "inputId = movies_df[movies_df['Name'].isin(inputMovies['Name'].tolist())]\n",
    "inputMovies = pd.merge(inputId, inputMovies)\n",
    "inputMovies = inputMovies.drop('Year', 1)\n",
    "inputMovies = inputMovies[['Movie_ID','Name','Rating']]\n",
    "print(inputMovies)"
   ]
  },
  {
   "cell_type": "code",
   "execution_count": 166,
   "metadata": {},
   "outputs": [
    {
     "name": "stdout",
     "output_type": "stream",
     "text": [
      "          User_ID  Rating\n",
      "Movie_ID                 \n",
      "58          16116   16116\n",
      "110          1863    1863\n",
      "599          8928    8928\n",
      "1502         8736    8736\n",
      "1509        32975   32975\n",
      "2139        20496   20496\n"
     ]
    }
   ],
   "source": [
    "userSubset = Ratings_df[Ratings_df['Movie_ID'].isin(inputMovies['Movie_ID'].tolist())]\n",
    "print(userSubset.groupby('Movie_ID').count())"
   ]
  },
  {
   "cell_type": "code",
   "execution_count": 167,
   "metadata": {},
   "outputs": [
    {
     "name": "stderr",
     "output_type": "stream",
     "text": [
      "C:\\Users\\Ultra White\\AppData\\Local\\Temp\\ipykernel_17724\\3041150758.py:10: FutureWarning: In a future version of pandas, a length 1 tuple will be returned when iterating over a groupby with a grouper equal to a list of length 1. Don't supply a list with a single grouper to avoid this warning.\n",
      "  userSubsetGroup = sorted(userSubsetGroup, key=take_5_elem, reverse=True)\n"
     ]
    },
    {
     "name": "stdout",
     "output_type": "stream",
     "text": [
      "[(16272,          User_ID  Rating  Movie_ID\n",
      "188089     16272       4        58\n",
      "263599     16272       3       110\n",
      "2310897    16272       3       599\n",
      "5386753    16272       1      1502\n",
      "5414831    16272       4      1509\n",
      "7971646    16272       3      2139), (64765,          User_ID  Rating  Movie_ID\n",
      "188600     64765       2        58\n",
      "263643     64765       2       110\n",
      "2311126    64765       4       599\n",
      "5386984    64765       2      1502\n",
      "5415562    64765       1      1509\n",
      "7972174    64765       4      2139), (151004,          User_ID  Rating  Movie_ID\n",
      "192823    151004       4        58\n",
      "264164    151004       3       110\n",
      "2313496   151004       4       599\n",
      "5389269   151004       1      1502\n",
      "5424346   151004       5      1509\n",
      "7977645   151004       3      2139), (303948,          User_ID  Rating  Movie_ID\n",
      "179034    303948       4        58\n",
      "262593    303948       3       110\n",
      "2305911   303948       4       599\n",
      "5381809   303948       4      1502\n",
      "5396274   303948       4      1509\n",
      "7960232   303948       4      2139), (305344,          User_ID  Rating  Movie_ID\n",
      "188698    305344       2        58\n",
      "263667    305344       1       110\n",
      "2311242   305344       2       599\n",
      "5387092   305344       1      1502\n",
      "5415955   305344       2      1509\n",
      "7972433   305344       5      2139)]\n"
     ]
    }
   ],
   "source": [
    "#Groupby creates several sub dataframes where they all have the same value in the column specified as the parameter\n",
    "userSubsetGroup = userSubset.groupby(['User_ID'])\n",
    "\n",
    "def take_5_elem(x):\n",
    "    # print (len(x[1]))\n",
    "    return len(x[1])\n",
    "    \n",
    "\n",
    "#Sorting it so users with movie most in common with the input will have priority\n",
    "userSubsetGroup = sorted(userSubsetGroup, key=take_5_elem, reverse=True)\n",
    "\n",
    "userSubsetGroup = userSubsetGroup[0:100]\n",
    "print(userSubsetGroup[0:5])\n"
   ]
  },
  {
   "cell_type": "code",
   "execution_count": 168,
   "metadata": {},
   "outputs": [],
   "source": [
    "#Store the Pearson Correlation in a dictionary, where the key is the user Id and the value is the coefficient\n",
    "pearsonCorrelationDict = {}\n",
    "\n",
    "#For every user group in our subset\n",
    "for name, group in userSubsetGroup:\n",
    "\n",
    "    #Let's start by sorting the input and current user group so the values aren't mixed up later on\n",
    "    group = group.sort_values(by='Movie_ID')\n",
    "    inputMovies = inputMovies.sort_values(by='Movie_ID')\n",
    "\n",
    "    #Get the N for the formula\n",
    "    nRatings = len(group)\n",
    "\n",
    "    # #Get the review scores for the movies that they both have in common\n",
    "    temp_df = inputMovies[inputMovies['Movie_ID'].isin(group['Movie_ID'].tolist())]\n",
    "\n",
    "    # #And then store them in a temporary buffer variable in a list format to facilitate future calculations\n",
    "    tempRatingList = temp_df['Rating'].tolist()\n",
    "   \n",
    "    # #Let's also put the current user group reviews in a list format\n",
    "    tempGroupList = group['Rating'].tolist()\n",
    "   \n",
    "    \n",
    "    # #Now let's calculate the pearson correlation between two users, so called, x and y manually (check the formula from week 7 slide)\n",
    "    Sxx = sum([i**2 for i in tempRatingList]) - pow(sum(tempRatingList),2)/float(nRatings)\n",
    "    Syy = sum([i**2 for i in tempGroupList]) - pow(sum(tempGroupList),2)/float(nRatings)\n",
    "    Sxy = sum( i*j for i, j in zip(tempRatingList, tempGroupList)) - sum(tempRatingList)*sum(tempGroupList)/float(nRatings)\n",
    "\n",
    "    #If the denominator is different than zero, then divide, else, 0 correlation.\n",
    "    if Sxx != 0 and Syy != 0:\n",
    "        pearsonCorrelationDict[name] = Sxy/sqrt(Sxx*Syy)\n",
    "    else:\n",
    "        pearsonCorrelationDict[name] = 0\n"
   ]
  },
  {
   "cell_type": "code",
   "execution_count": 169,
   "metadata": {},
   "outputs": [
    {
     "name": "stdout",
     "output_type": "stream",
     "text": [
      "   similarityIndex  User_ID\n",
      "0        -0.346518    16272\n",
      "1        -0.445532    64765\n",
      "2        -0.544089   151004\n",
      "3        -0.368048   303948\n",
      "4        -0.607097   305344\n"
     ]
    }
   ],
   "source": [
    "pearsonDF = pd.DataFrame.from_dict(pearsonCorrelationDict, orient='index')\n",
    "pearsonDF.columns = ['similarityIndex']\n",
    "pearsonDF['User_ID'] = pearsonDF.index\n",
    "pearsonDF.index = range(len(pearsonDF))\n",
    "print(pearsonDF.head())\n"
   ]
  },
  {
   "cell_type": "code",
   "execution_count": 170,
   "metadata": {},
   "outputs": [
    {
     "name": "stdout",
     "output_type": "stream",
     "text": [
      "    similarityIndex  User_ID\n",
      "54         0.666667    44434\n",
      "70         0.645497   166041\n",
      "85         0.612372   290916\n",
      "96         0.612372   394895\n",
      "82         0.612372   267378\n"
     ]
    }
   ],
   "source": [
    "\n",
    "topUsers=pearsonDF.sort_values(by='similarityIndex', ascending=False)[0:50]\n",
    "print(topUsers.head())\n",
    "\n"
   ]
  },
  {
   "cell_type": "code",
   "execution_count": 171,
   "metadata": {},
   "outputs": [
    {
     "name": "stdout",
     "output_type": "stream",
     "text": [
      "    similarityIndex  User_ID  Rating  Movie_ID\n",
      "0          0.666667    44434       1        26\n",
      "1          0.666667    44434       2        30\n",
      "2          0.666667    44434       2        46\n",
      "3          0.666667    44434       2        58\n",
      "4          0.666667    44434       2        78\n",
      "..              ...      ...     ...       ...\n",
      "95         0.666667    44434       2      1236\n",
      "96         0.666667    44434       3      1255\n",
      "97         0.666667    44434       1      1289\n",
      "98         0.666667    44434       4      1300\n",
      "99         0.666667    44434       2      1305\n",
      "\n",
      "[100 rows x 4 columns]\n"
     ]
    }
   ],
   "source": [
    "\n",
    "topUsersRating=topUsers.merge(Ratings_df, left_on='User_ID', right_on='User_ID', how='inner')\n",
    "print(topUsersRating.head(100))"
   ]
  },
  {
   "cell_type": "code",
   "execution_count": 172,
   "metadata": {},
   "outputs": [
    {
     "name": "stdout",
     "output_type": "stream",
     "text": [
      "   similarityIndex  User_ID  Rating  Movie_ID  weightedRating\n",
      "0         0.666667    44434       1        26        0.666667\n",
      "1         0.666667    44434       2        30        1.333333\n",
      "2         0.666667    44434       2        46        1.333333\n",
      "3         0.666667    44434       2        58        1.333333\n",
      "4         0.666667    44434       2        78        1.333333\n"
     ]
    }
   ],
   "source": [
    "#Multiplies the similarity by the user’s ratings\n",
    "topUsersRating['weightedRating'] = topUsersRating['similarityIndex']*topUsersRating['Rating']\n",
    "print(topUsersRating.head())\n"
   ]
  },
  {
   "cell_type": "code",
   "execution_count": 173,
   "metadata": {},
   "outputs": [
    {
     "name": "stdout",
     "output_type": "stream",
     "text": [
      "          sum_similarityIndex  sum_weightedRating\n",
      "Movie_ID                                         \n",
      "3                    0.292617            0.710645\n",
      "8                    1.895848            4.929304\n",
      "16                   2.121550            7.623800\n",
      "17                   1.062291            4.215310\n",
      "18                   4.957048           18.969511\n"
     ]
    }
   ],
   "source": [
    "\n",
    "#Applies a sum to the topUsers after grouping it up by movieId\n",
    "tempTopUsersRating = topUsersRating.groupby('Movie_ID').sum()[['similarityIndex','weightedRating']]\n",
    "tempTopUsersRating.columns = ['sum_similarityIndex','sum_weightedRating']\n",
    "print(tempTopUsersRating.head())\n"
   ]
  },
  {
   "cell_type": "code",
   "execution_count": 174,
   "metadata": {},
   "outputs": [
    {
     "name": "stdout",
     "output_type": "stream",
     "text": [
      "          weighted average recommendation score  Movie_ID\n",
      "Movie_ID                                                 \n",
      "3                                      2.428589         3\n",
      "8                                      2.600053         8\n",
      "16                                     3.593505        16\n",
      "17                                     3.968133        17\n",
      "18                                     3.826775        18\n",
      "26                                     2.283243        26\n",
      "28                                     4.021103        28\n",
      "30                                     3.980418        30\n",
      "32                                     4.316373        32\n",
      "33                                     1.907859        33\n"
     ]
    }
   ],
   "source": [
    "#Creates an empty dataframe\n",
    "recommendation_df = pd.DataFrame()\n",
    "\n",
    "#Now we take the weighted average\n",
    "recommendation_df['weighted average recommendation score'] = tempTopUsersRating['sum_weightedRating']/tempTopUsersRating['sum_similarityIndex']\n",
    "recommendation_df['Movie_ID'] = tempTopUsersRating.index\n",
    "\n",
    "print(recommendation_df.head(10))"
   ]
  },
  {
   "cell_type": "code",
   "execution_count": 175,
   "metadata": {},
   "outputs": [
    {
     "name": "stdout",
     "output_type": "stream",
     "text": [
      "          weighted average recommendation score  Movie_ID\n",
      "Movie_ID                                                 \n",
      "2423                                   8.133141      2423\n",
      "3529                                   7.844890      3529\n",
      "1481                                   7.518619      1481\n",
      "1476                                   5.186384      1476\n",
      "3456                                   5.049442      3456\n",
      "...                                         ...       ...\n",
      "4237                                  -0.631917      4237\n",
      "1604                                  -1.249197      1604\n",
      "2889                                  -1.249197      2889\n",
      "4387                                  -1.837474      4387\n",
      "2944                                  -3.185202      2944\n",
      "\n",
      "[1349 rows x 2 columns]\n"
     ]
    }
   ],
   "source": [
    "recommendation_df = recommendation_df.sort_values(by='weighted average recommendation score', ascending=False)\n",
    "recommendation_df = recommendation_df.head(-1)\n",
    "print(recommendation_df)\n"
   ]
  },
  {
   "cell_type": "code",
   "execution_count": 176,
   "metadata": {},
   "outputs": [
    {
     "name": "stdout",
     "output_type": "stream",
     "text": [
      "      Movie_ID  Year                        Name\n",
      "2            3  1997                   Character\n",
      "7            8  2004  What the #$*! Do We Know!?\n",
      "15          16  1996                   Screamers\n",
      "16          17  2005                   7 Seconds\n",
      "17          18  1994            Immortal Beloved\n",
      "...        ...   ...                         ...\n",
      "4487      4488  2000                 Wonder Boys\n",
      "4489      4490  2004                   Ned Kelly\n",
      "4491      4492  2004                  Club Dread\n",
      "4492      4493  2003           Ju-on: The Grudge\n",
      "4495      4496  1993       Farewell My Concubine\n",
      "\n",
      "[1343 rows x 3 columns]\n"
     ]
    }
   ],
   "source": [
    "recommended_movie=movies_df.loc[movies_df['Movie_ID'].isin(recommendation_df['Movie_ID'])]\n",
    "\n",
    "#we don't want to recommend the same movie\n",
    "recommended_movie=recommended_movie.loc[~recommended_movie.Movie_ID.isin(userSubset['Movie_ID'])]\n",
    "\n",
    "print(recommended_movie)"
   ]
  },
  {
   "cell_type": "code",
   "execution_count": 177,
   "metadata": {},
   "outputs": [
    {
     "name": "stdout",
     "output_type": "stream",
     "text": [
      "      Movie_ID  Year                Name\n",
      "1110      1111  1972  Cries and Whispers\n",
      "\n",
      "Empty DataFrame\n",
      "Columns: [Movie_ID, Year, Name]\n",
      "Index: []\n",
      "\n",
      "Empty DataFrame\n",
      "Columns: [Movie_ID, Year, Name]\n",
      "Index: []\n",
      "\n",
      "      Movie_ID  Year       Name\n",
      "4489      4490  2004  Ned Kelly\n"
     ]
    }
   ],
   "source": [
    "#Check wether the reccomended movie is wrong or no\n",
    "#if the the movie id is nan in the reccomended has value in the reccomended_movie. It means it is wrong (Stored all)\n",
    "print(recommended_movie[recommended_movie['Movie_ID'] == 1111]) #CORRECT\n",
    "print()\n",
    "print(recommended_movie[recommended_movie['Movie_ID'] == 1189]) #NO\n",
    "print()\n",
    "print(recommended_movie[recommended_movie['Movie_ID'] == 4489]) #NO\n",
    "print()\n",
    "print(recommended_movie[recommended_movie['Movie_ID'] == 4490]) #CORRECT\n",
    "\n",
    "#Just checking\n",
    "#Not really important"
   ]
  }
 ],
 "metadata": {
  "kernelspec": {
   "display_name": "Python 3",
   "language": "python",
   "name": "python3"
  },
  "language_info": {
   "codemirror_mode": {
    "name": "ipython",
    "version": 3
   },
   "file_extension": ".py",
   "mimetype": "text/x-python",
   "name": "python",
   "nbconvert_exporter": "python",
   "pygments_lexer": "ipython3",
   "version": "3.11.0"
  },
  "orig_nbformat": 4,
  "vscode": {
   "interpreter": {
    "hash": "ae2820816265b199a616fda11f9f2f7939b22e031f04fe505c7a9462379d5d50"
   }
  }
 },
 "nbformat": 4,
 "nbformat_minor": 2
}
