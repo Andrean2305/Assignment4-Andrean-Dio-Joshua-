{
 "cells": [
  {
   "cell_type": "code",
   "execution_count": 53,
   "metadata": {},
   "outputs": [],
   "source": [
    "import pandas as pd\n",
    "from math import sqrt\n",
    "import numpy as np"
   ]
  },
  {
   "cell_type": "code",
   "execution_count": 54,
   "metadata": {},
   "outputs": [
    {
     "name": "stdout",
     "output_type": "stream",
     "text": [
      "<class 'pandas.core.frame.DataFrame'>\n",
      "RangeIndex: 17770 entries, 0 to 17769\n",
      "Data columns (total 3 columns):\n",
      " #   Column    Non-Null Count  Dtype \n",
      "---  ------    --------------  ----- \n",
      " 0   Movie_ID  17770 non-null  int64 \n",
      " 1   Year      17770 non-null  int64 \n",
      " 2   Name      17770 non-null  object\n",
      "dtypes: int64(2), object(1)\n",
      "memory usage: 416.6+ KB\n",
      "None\n"
     ]
    }
   ],
   "source": [
    "movies_df = pd.read_csv('Netflix_Dataset_Movie.csv')\n",
    "Ratings_df = pd.read_csv('Netflix_Dataset_Rating.csv')\n",
    "print(movies_df.info())"
   ]
  },
  {
   "cell_type": "code",
   "execution_count": 55,
   "metadata": {},
   "outputs": [
    {
     "name": "stdout",
     "output_type": "stream",
     "text": [
      "                            Name  Rating\n",
      "0                    Dragonheart     5.0\n",
      "1                    Sea of Love     1.0\n",
      "2             The Color of Money     1.0\n",
      "3                      Superstar     5.0\n",
      "4                        Scandal     4.5\n",
      "5  National Lampoon's Van Wilder     1.0\n"
     ]
    }
   ],
   "source": [
    "userInput = [{'Name':'Dragonheart', 'Rating':5},\n",
    "             {'Name':'Sea of Love', 'Rating':1},\n",
    "             {'Name':'The Color of Money', 'Rating':1},\n",
    "             {'Name':'Superstar', 'Rating':5},\n",
    "             {'Name':'Scandal', 'Rating':4.5},\n",
    "             {'Name':\"National Lampoon's Van Wilder\", 'Rating':1}]\n",
    "\n",
    "inputMovies = pd.DataFrame(userInput)\n",
    "print(inputMovies)\n"
   ]
  },
  {
   "cell_type": "code",
   "execution_count": 56,
   "metadata": {},
   "outputs": [
    {
     "name": "stdout",
     "output_type": "stream",
     "text": [
      "   Movie_ID                           Name  Rating\n",
      "0        58                    Dragonheart     5.0\n",
      "1       110                        Scandal     4.5\n",
      "2       599                    Sea of Love     1.0\n",
      "3      1502                      Superstar     5.0\n",
      "4      1509  National Lampoon's Van Wilder     1.0\n",
      "5      2139             The Color of Money     1.0\n"
     ]
    },
    {
     "name": "stderr",
     "output_type": "stream",
     "text": [
      "C:\\Users\\Ultra White\\AppData\\Local\\Temp\\ipykernel_16716\\3613668565.py:3: FutureWarning: In a future version of pandas all arguments of DataFrame.drop except for the argument 'labels' will be keyword-only.\n",
      "  inputMovies = inputMovies.drop('Year', 1)\n"
     ]
    }
   ],
   "source": [
    "\n",
    "inputId = movies_df[movies_df['Name'].isin(inputMovies['Name'].tolist())]\n",
    "inputMovies = pd.merge(inputId, inputMovies)\n",
    "inputMovies = inputMovies.drop('Year', 1)\n",
    "inputMovies = inputMovies[['Movie_ID','Name','Rating']]\n",
    "print(inputMovies)"
   ]
  },
  {
   "cell_type": "code",
   "execution_count": 57,
   "metadata": {},
   "outputs": [
    {
     "name": "stdout",
     "output_type": "stream",
     "text": [
      "          User_ID  Rating\n",
      "Movie_ID                 \n",
      "58          16116   16116\n",
      "110          1863    1863\n",
      "599          8928    8928\n",
      "1502         8736    8736\n",
      "1509        32975   32975\n",
      "2139        20496   20496\n"
     ]
    }
   ],
   "source": [
    "userSubset = Ratings_df[Ratings_df['Movie_ID'].isin(inputMovies['Movie_ID'].tolist())]\n",
    "print(userSubset.groupby('Movie_ID').count())"
   ]
  },
  {
   "cell_type": "code",
   "execution_count": 58,
   "metadata": {},
   "outputs": [
    {
     "name": "stderr",
     "output_type": "stream",
     "text": [
      "C:\\Users\\Ultra White\\AppData\\Local\\Temp\\ipykernel_16716\\3041150758.py:10: FutureWarning: In a future version of pandas, a length 1 tuple will be returned when iterating over a groupby with a grouper equal to a list of length 1. Don't supply a list with a single grouper to avoid this warning.\n",
      "  userSubsetGroup = sorted(userSubsetGroup, key=take_5_elem, reverse=True)\n"
     ]
    },
    {
     "name": "stdout",
     "output_type": "stream",
     "text": [
      "[(16272,          User_ID  Rating  Movie_ID\n",
      "188089     16272       4        58\n",
      "263599     16272       3       110\n",
      "2310897    16272       3       599\n",
      "5386753    16272       1      1502\n",
      "5414831    16272       4      1509\n",
      "7971646    16272       3      2139), (64765,          User_ID  Rating  Movie_ID\n",
      "188600     64765       2        58\n",
      "263643     64765       2       110\n",
      "2311126    64765       4       599\n",
      "5386984    64765       2      1502\n",
      "5415562    64765       1      1509\n",
      "7972174    64765       4      2139), (151004,          User_ID  Rating  Movie_ID\n",
      "192823    151004       4        58\n",
      "264164    151004       3       110\n",
      "2313496   151004       4       599\n",
      "5389269   151004       1      1502\n",
      "5424346   151004       5      1509\n",
      "7977645   151004       3      2139), (303948,          User_ID  Rating  Movie_ID\n",
      "179034    303948       4        58\n",
      "262593    303948       3       110\n",
      "2305911   303948       4       599\n",
      "5381809   303948       4      1502\n",
      "5396274   303948       4      1509\n",
      "7960232   303948       4      2139), (305344,          User_ID  Rating  Movie_ID\n",
      "188698    305344       2        58\n",
      "263667    305344       1       110\n",
      "2311242   305344       2       599\n",
      "5387092   305344       1      1502\n",
      "5415955   305344       2      1509\n",
      "7972433   305344       5      2139)]\n"
     ]
    }
   ],
   "source": [
    "#Groupby creates several sub dataframes where they all have the same value in the column specified as the parameter\n",
    "userSubsetGroup = userSubset.groupby(['User_ID'])\n",
    "\n",
    "def take_5_elem(x):\n",
    "    # print (len(x[1]))\n",
    "    return len(x[1])\n",
    "    \n",
    "\n",
    "#Sorting it so users with movie most in common with the input will have priority\n",
    "userSubsetGroup = sorted(userSubsetGroup, key=take_5_elem, reverse=True)\n",
    "\n",
    "userSubsetGroup = userSubsetGroup[0:100]\n",
    "print(userSubsetGroup[0:5])\n"
   ]
  },
  {
   "cell_type": "code",
   "execution_count": 59,
   "metadata": {},
   "outputs": [],
   "source": [
    "#Store the Pearson Correlation in a dictionary, where the key is the user Id and the value is the coefficient\n",
    "pearsonCorrelationDict = {}\n",
    "\n",
    "#For every user group in our subset\n",
    "for name, group in userSubsetGroup:\n",
    "\n",
    "    #Let's start by sorting the input and current user group so the values aren't mixed up later on\n",
    "    group = group.sort_values(by='Movie_ID')\n",
    "    inputMovies = inputMovies.sort_values(by='Movie_ID')\n",
    "\n",
    "    #Get the N for the formula\n",
    "    nRatings = len(group)\n",
    "\n",
    "    # #Get the review scores for the movies that they both have in common\n",
    "    temp_df = inputMovies[inputMovies['Movie_ID'].isin(group['Movie_ID'].tolist())]\n",
    "\n",
    "    # #And then store them in a temporary buffer variable in a list format to facilitate future calculations\n",
    "    tempRatingList = temp_df['Rating'].tolist()\n",
    "   \n",
    "    # #Let's also put the current user group reviews in a list format\n",
    "    tempGroupList = group['Rating'].tolist()\n",
    "   \n",
    "    \n",
    "    # #Now let's calculate the pearson correlation between two users, so called, x and y manually (check the formula from week 7 slide)\n",
    "    Sxx = sum([i**2 for i in tempRatingList]) - pow(sum(tempRatingList),2)/float(nRatings)\n",
    "    Syy = sum([i**2 for i in tempGroupList]) - pow(sum(tempGroupList),2)/float(nRatings)\n",
    "    Sxy = sum( i*j for i, j in zip(tempRatingList, tempGroupList)) - sum(tempRatingList)*sum(tempGroupList)/float(nRatings)\n",
    "\n",
    "    #If the denominator is different than zero, then divide, else, 0 correlation.\n",
    "    if Sxx != 0 and Syy != 0:\n",
    "        pearsonCorrelationDict[name] = Sxy/sqrt(Sxx*Syy)\n",
    "    else:\n",
    "        pearsonCorrelationDict[name] = 0\n"
   ]
  },
  {
   "cell_type": "code",
   "execution_count": 60,
   "metadata": {},
   "outputs": [
    {
     "name": "stdout",
     "output_type": "stream",
     "text": [
      "   similarityIndex  User_ID\n",
      "0        -0.346518    16272\n",
      "1        -0.445532    64765\n",
      "2        -0.544089   151004\n",
      "3        -0.368048   303948\n",
      "4        -0.607097   305344\n"
     ]
    }
   ],
   "source": [
    "pearsonDF = pd.DataFrame.from_dict(pearsonCorrelationDict, orient='index')\n",
    "pearsonDF.columns = ['similarityIndex']\n",
    "pearsonDF['User_ID'] = pearsonDF.index\n",
    "pearsonDF.index = range(len(pearsonDF))\n",
    "print(pearsonDF.head())\n"
   ]
  },
  {
   "cell_type": "code",
   "execution_count": 61,
   "metadata": {},
   "outputs": [
    {
     "name": "stdout",
     "output_type": "stream",
     "text": [
      "    similarityIndex  User_ID\n",
      "54         0.666667    44434\n",
      "70         0.645497   166041\n",
      "85         0.612372   290916\n",
      "96         0.612372   394895\n",
      "82         0.612372   267378\n"
     ]
    }
   ],
   "source": [
    "\n",
    "topUsers=pearsonDF.sort_values(by='similarityIndex', ascending=False)[0:50]\n",
    "print(topUsers.head())\n",
    "\n"
   ]
  },
  {
   "cell_type": "code",
   "execution_count": 62,
   "metadata": {},
   "outputs": [
    {
     "name": "stdout",
     "output_type": "stream",
     "text": [
      "    similarityIndex  User_ID  Rating  Movie_ID\n",
      "0          0.666667    44434       1        26\n",
      "1          0.666667    44434       2        30\n",
      "2          0.666667    44434       2        46\n",
      "3          0.666667    44434       2        58\n",
      "4          0.666667    44434       2        78\n",
      "..              ...      ...     ...       ...\n",
      "95         0.666667    44434       2      1236\n",
      "96         0.666667    44434       3      1255\n",
      "97         0.666667    44434       1      1289\n",
      "98         0.666667    44434       4      1300\n",
      "99         0.666667    44434       2      1305\n",
      "\n",
      "[100 rows x 4 columns]\n"
     ]
    }
   ],
   "source": [
    "\n",
    "topUsersRating=topUsers.merge(Ratings_df, left_on='User_ID', right_on='User_ID', how='inner')\n",
    "print(topUsersRating.head(100))"
   ]
  },
  {
   "cell_type": "code",
   "execution_count": 63,
   "metadata": {},
   "outputs": [
    {
     "name": "stdout",
     "output_type": "stream",
     "text": [
      "   similarityIndex  User_ID  Rating  Movie_ID  weightedRating\n",
      "0         0.666667    44434       1        26        0.666667\n",
      "1         0.666667    44434       2        30        1.333333\n",
      "2         0.666667    44434       2        46        1.333333\n",
      "3         0.666667    44434       2        58        1.333333\n",
      "4         0.666667    44434       2        78        1.333333\n"
     ]
    }
   ],
   "source": [
    "#Multiplies the similarity by the user’s ratings\n",
    "topUsersRating['weightedRating'] = topUsersRating['similarityIndex']*topUsersRating['Rating']\n",
    "print(topUsersRating.head())\n"
   ]
  },
  {
   "cell_type": "code",
   "execution_count": 64,
   "metadata": {},
   "outputs": [
    {
     "name": "stdout",
     "output_type": "stream",
     "text": [
      "          sum_similarityIndex  sum_weightedRating\n",
      "Movie_ID                                         \n",
      "3                    0.292617            0.710645\n",
      "8                    1.895848            4.929304\n",
      "16                   2.121550            7.623800\n",
      "17                   1.062291            4.215310\n",
      "18                   4.957048           18.969511\n"
     ]
    }
   ],
   "source": [
    "\n",
    "#Applies a sum to the topUsers after grouping it up by movieId\n",
    "tempTopUsersRating = topUsersRating.groupby('Movie_ID').sum()[['similarityIndex','weightedRating']]\n",
    "tempTopUsersRating.columns = ['sum_similarityIndex','sum_weightedRating']\n",
    "print(tempTopUsersRating.head())\n"
   ]
  },
  {
   "cell_type": "code",
   "execution_count": 65,
   "metadata": {},
   "outputs": [
    {
     "name": "stdout",
     "output_type": "stream",
     "text": [
      "          weighted average recommendation score  Movie_ID\n",
      "Movie_ID                                                 \n",
      "3                                      2.428589         3\n",
      "8                                      2.600053         8\n",
      "16                                     3.593505        16\n",
      "17                                     3.968133        17\n",
      "18                                     3.826775        18\n",
      "26                                     2.283243        26\n",
      "28                                     4.021103        28\n",
      "30                                     3.980418        30\n",
      "32                                     4.316373        32\n",
      "33                                     1.907859        33\n"
     ]
    }
   ],
   "source": [
    "#Creates an empty dataframe\n",
    "recommendation_df = pd.DataFrame()\n",
    "\n",
    "#Now we take the weighted average\n",
    "recommendation_df['weighted average recommendation score'] = tempTopUsersRating['sum_weightedRating']/tempTopUsersRating['sum_similarityIndex']\n",
    "recommendation_df['Movie_ID'] = tempTopUsersRating.index\n",
    "\n",
    "print(recommendation_df.head(10))"
   ]
  },
  {
   "cell_type": "code",
   "execution_count": 66,
   "metadata": {},
   "outputs": [
    {
     "name": "stdout",
     "output_type": "stream",
     "text": [
      "          weighted average recommendation score  Movie_ID\n",
      "Movie_ID                                                 \n",
      "2423                                   8.133141      2423\n",
      "3529                                   7.844890      3529\n",
      "1481                                   7.518619      1481\n",
      "1476                                   5.186384      1476\n",
      "3456                                   5.049442      3456\n",
      "...                                         ...       ...\n",
      "1604                                  -1.249197      1604\n",
      "2889                                  -1.249197      2889\n",
      "4387                                  -1.837474      4387\n",
      "2944                                  -3.185202      2944\n",
      "762                                  -17.570654       762\n",
      "\n",
      "[1350 rows x 2 columns]\n"
     ]
    }
   ],
   "source": [
    "recommendation_df = recommendation_df.sort_values(by='weighted average recommendation score', ascending=False)\n",
    "\n",
    "print(recommendation_df)\n"
   ]
  },
  {
   "cell_type": "code",
   "execution_count": 67,
   "metadata": {},
   "outputs": [
    {
     "name": "stdout",
     "output_type": "stream",
     "text": [
      "      Movie_ID  Year                        Name\n",
      "2            3  1997                   Character\n",
      "7            8  2004  What the #$*! Do We Know!?\n",
      "15          16  1996                   Screamers\n",
      "16          17  2005                   7 Seconds\n",
      "17          18  1994            Immortal Beloved\n",
      "...        ...   ...                         ...\n",
      "4487      4488  2000                 Wonder Boys\n",
      "4489      4490  2004                   Ned Kelly\n",
      "4491      4492  2004                  Club Dread\n",
      "4492      4493  2003           Ju-on: The Grudge\n",
      "4495      4496  1993       Farewell My Concubine\n",
      "\n",
      "[1344 rows x 3 columns]\n",
      "1344\n"
     ]
    }
   ],
   "source": [
    "recommended_movie=movies_df.loc[movies_df['Movie_ID'].isin(recommendation_df['Movie_ID'])]\n",
    "\n",
    "#we don't want to recommend the same movie\n",
    "recommended_movie=recommended_movie.loc[~recommended_movie.Movie_ID.isin(userSubset['Movie_ID'])]\n",
    "\n",
    "print(recommended_movie)\n",
    "\n",
    "recommended_movie = recommended_movie[\"Name\"].tolist()\n",
    "print(len(recommended_movie))"
   ]
  },
  {
   "cell_type": "code",
   "execution_count": 68,
   "metadata": {},
   "outputs": [
    {
     "name": "stdout",
     "output_type": "stream",
     "text": [
      "Act\n"
     ]
    },
    {
     "name": "stderr",
     "output_type": "stream",
     "text": [
      "C:\\Users\\Ultra White\\AppData\\Local\\Temp\\ipykernel_16716\\3568203578.py:1: DtypeWarning: Columns (10) have mixed types. Specify dtype option on import or set low_memory=False.\n",
      "  moviess_df = pd.read_csv('movies_metadata.csv')\n"
     ]
    }
   ],
   "source": [
    "moviess_df = pd.read_csv('movies_metadata.csv')\n",
    "print(moviess_df[\"genres\"][8][21:24])"
   ]
  },
  {
   "cell_type": "code",
   "execution_count": 69,
   "metadata": {},
   "outputs": [],
   "source": [
    "action = []\n",
    "comedy = []\n",
    "horror = []\n",
    "drama = []\n",
    "family = []\n",
    "adventure = []"
   ]
  },
  {
   "cell_type": "code",
   "execution_count": 70,
   "metadata": {},
   "outputs": [
    {
     "name": "stdout",
     "output_type": "stream",
     "text": [
      "56\n"
     ]
    }
   ],
   "source": [
    "for i in range (len(recommended_movie) - 1):\n",
    "    a = (moviess_df[moviess_df[\"original_title\"] == (recommended_movie[i])][\"genres\"].to_string())\n",
    "    b = (a.find('name'))\n",
    "\n",
    "    if ((a[b+8:b+11])== \"Fam\"):\n",
    "        family.append(recommended_movie[i])\n",
    "    if ((a[b+8:b+11])== \"Adv\"):\n",
    "        adventure.append(recommended_movie[i])\n",
    "    if ((a[b+8:b+11])== \"Hor\"):\n",
    "        horror.append(recommended_movie[i])\n",
    "    if ((a[b+8:b+11])== \"Com\"):\n",
    "        comedy.append(recommended_movie[i])\n",
    "    if ((a[b+8:b+11])== \"Act\"):\n",
    "        action.append(recommended_movie[i])\n",
    "\n",
    "counted = {\"action\" : len(action),\n",
    "\"comedy\" : len(comedy),\n",
    "\"horror\" : len(horror),\n",
    "\"drama\" : len(drama),\n",
    "\"adventure\" : len(adventure),\n",
    "\"family\" : len(family)}\n",
    "\n",
    "print(counted[\"adventure\"])"
   ]
  },
  {
   "cell_type": "code",
   "execution_count": 71,
   "metadata": {},
   "outputs": [],
   "source": [
    "counted = {\"action\" : len(action),\n",
    "\"comedy\" : len(comedy),\n",
    "\"horror\" : len(horror),\n",
    "\"drama\" : len(drama),\n",
    "\"adventure\" : len(adventure),\n",
    "\"family\" : len(family)}"
   ]
  },
  {
   "cell_type": "code",
   "execution_count": 72,
   "metadata": {},
   "outputs": [
    {
     "name": "stdout",
     "output_type": "stream",
     "text": [
      "You mostly will enjoy comedy genre\n",
      "You mostly will not enjoy drama genre\n"
     ]
    }
   ],
   "source": [
    "maksimumaa = [counted[\"action\"],counted[\"horror\"],counted[\"drama\"],counted[\"adventure\"],counted[\"family\"],counted[\"comedy\"]]\n",
    "\n",
    "maximize = max(maksimumaa)\n",
    "minimize = min(maksimumaa)\n",
    "\n",
    "for x in counted:\n",
    "  if maximize == counted[x]:\n",
    "    print(\"You mostly will enjoy\",x,\"genre\")\n",
    "  if minimize == counted[x]:\n",
    "    print(\"You mostly will not enjoy\",x,\"genre\")"
   ]
  },
  {
   "cell_type": "code",
   "execution_count": 73,
   "metadata": {},
   "outputs": [
    {
     "name": "stdout",
     "output_type": "stream",
     "text": [
      "This is adventure genre reccomendation built for you\n",
      "\n",
      "\n",
      "No Title\n",
      "0 The Great Race\n",
      "1 Fatal Beauty\n",
      "2 The Hunchback of Notre Dame II\n",
      "3 Captain Blood\n",
      "4 The 10th Kingdom\n",
      "5 Rabbit-Proof Fence\n",
      "6 Journey to the Center of the Earth\n",
      "7 The Hitchhiker's Guide to the Galaxy\n",
      "8 Robin Hood: Prince of Thieves\n",
      "9 Rob Roy\n",
      "10 Logan's Run\n",
      "11 Back to the Future Part III\n",
      "12 The Mummy\n",
      "13 The Shadow\n",
      "14 Cloak & Dagger\n",
      "15 Nicholas Nickleby\n",
      "16 Mutiny on the Bounty\n",
      "17 For Your Eyes Only\n",
      "18 Journey to the Center of the Earth\n",
      "19 Walking Tall\n",
      "20 Hook\n",
      "21 Monkeybone\n",
      "22 Clash of the Titans\n",
      "23 The Life Aquatic with Steve Zissou\n",
      "24 Young Black Stallion\n",
      "25 Earthsea\n",
      "26 Lethal Weapon\n",
      "27 Pirates of the Caribbean: The Curse of the Black Pearl\n",
      "28 Final Fantasy: The Spirits Within\n",
      "29 VeggieTales: Dave and the Giant Pickle\n",
      "30 Mystery Men\n",
      "31 The Ghost and the Darkness\n",
      "32 The Hitchhiker's Guide to the Galaxy\n",
      "33 Spice World\n",
      "34 Sullivan's Travels\n",
      "35 The Emperor's New Groove\n",
      "36 The Rundown\n",
      "37 Red Sonja\n",
      "38 Pocahontas\n",
      "39 Where Eagles Dare\n",
      "40 Forever Young\n",
      "41 The Stand\n",
      "42 The Man Who Knew Too Much\n",
      "43 Starship Troopers 2: Hero of the Federation\n",
      "44 Jason and the Argonauts\n",
      "45 Walkabout\n",
      "46 Lethal Weapon 3\n",
      "47 Bad Boys II\n",
      "48 Goldfinger\n",
      "49 Fear and Loathing in Las Vegas\n",
      "50 Shrek 2\n",
      "51 Pollyanna\n",
      "52 Shanghai Noon\n",
      "53 Jurassic Park III\n",
      "54 Conan the Barbarian\n",
      "55 Rat Race\n"
     ]
    }
   ],
   "source": [
    "x = 0\n",
    "print(\"This is adventure genre reccomendation built for you\")\n",
    "print('\\n')\n",
    "print(\"No\",\"Title\")\n",
    "for i in adventure:\n",
    "    \n",
    "    print(x,i)\n",
    "    x += 1"
   ]
  },
  {
   "cell_type": "code",
   "execution_count": 74,
   "metadata": {},
   "outputs": [
    {
     "name": "stdout",
     "output_type": "stream",
     "text": [
      "This is drama genre reccomendation built for you\n",
      "\n",
      "\n",
      "No Title\n"
     ]
    }
   ],
   "source": [
    "x = 0\n",
    "print(\"This is drama genre reccomendation built for you\")\n",
    "print('\\n')\n",
    "print(\"No\",\"Title\")\n",
    "for i in drama:\n",
    "    \n",
    "    print(x,i)\n",
    "    x += 1"
   ]
  },
  {
   "cell_type": "code",
   "execution_count": 75,
   "metadata": {},
   "outputs": [
    {
     "name": "stdout",
     "output_type": "stream",
     "text": [
      "This is comedy genre reccomendation built for you\n",
      "\n",
      "\n",
      "No Title\n",
      "0 The Love Letter\n",
      "1 Richard Pryor: Live on the Sunset Strip\n",
      "2 Death to Smoochy\n",
      "3 Airplane II: The Sequel\n",
      "4 Home Movie\n",
      "5 The Cookout\n",
      "6 Gross Anatomy\n",
      "7 Woman of the Year\n",
      "8 A Night at the Opera\n",
      "9 Parenthood\n",
      "10 Bridget Jones's Diary\n",
      "11 Jack\n",
      "12 Ed Wood\n",
      "13 High Fidelity\n",
      "14 Chasing Amy\n",
      "15 The Taming of the Shrew\n",
      "16 Life or Something Like It\n",
      "17 Spun\n",
      "18 The Trouble with Angels\n",
      "19 Party Monster\n",
      "20 Igby Goes Down\n",
      "21 The Unsinkable Molly Brown\n",
      "22 Happiness\n",
      "23 Untamed Heart\n",
      "24 Girls Just Want to Have Fun\n",
      "25 Scorched\n",
      "26 City Lights\n",
      "27 Monsoon Wedding\n",
      "28 Two Can Play That Game\n",
      "29 Mumford\n",
      "30 Drop Dead Fred\n",
      "31 My Family\n",
      "32 Stir Crazy\n",
      "33 Buying the Cow\n",
      "34 Police Academy 3: Back in Training\n",
      "35 The Mighty\n",
      "36 Major League\n",
      "37 Curly Sue\n",
      "38 Mr. Magoo\n",
      "39 Ernest Goes to Jail\n",
      "40 The Lonely Guy\n",
      "41 Mean Girls\n",
      "42 Clerks\n",
      "43 The Mouse That Roared\n",
      "44 Dead Man on Campus\n",
      "45 Bill Cosby: Himself\n",
      "46 Serial Mom\n",
      "47 The Lady Eve\n",
      "48 Animal Crackers\n",
      "49 Comedian\n",
      "50 My Favorite Wife\n",
      "51 Love in the Afternoon\n",
      "52 Blow Dry\n",
      "53 The Snapper\n",
      "54 The Party\n",
      "55 Uptown Girls\n",
      "56 King's Ransom\n",
      "57 Monkey Trouble\n",
      "58 Harlem Nights\n",
      "59 Secondhand Lions\n",
      "60 Polyester\n",
      "61 The Wedding Planner\n",
      "62 Krippendorf's Tribe\n",
      "63 The Sandlot\n",
      "64 Repo Man\n",
      "65 Teaching Mrs. Tingle\n",
      "66 National Lampoon's Vacation\n",
      "67 Seems Like Old Times\n",
      "68 Summer of '42\n",
      "69 Crooklyn\n",
      "70 Ali G Indahouse\n",
      "71 Threesome\n",
      "72 Brassed Off\n",
      "73 Dead Men Don't Wear Plaid\n",
      "74 Dr. Dolittle 2\n",
      "75 Strange Brew\n",
      "76 Funny Lady\n",
      "77 Leprechaun\n",
      "78 Charade\n",
      "79 Sordid Lives\n",
      "80 Bend It Like Beckham\n",
      "81 Amazon Women on the Moon\n",
      "82 Sleepless in Seattle\n",
      "83 The Women\n",
      "84 American Wedding\n",
      "85 Nine Months\n",
      "86 Superbabies: Baby Geniuses 2\n",
      "87 The American President\n",
      "88 The Shop Around the Corner\n",
      "89 Nine to Five\n",
      "90 Grumpy Old Men\n",
      "91 The Bad News Bears\n",
      "92 Orgazmo\n",
      "93 The Brady Bunch Movie\n",
      "94 Bottle Rocket\n",
      "95 Waking Up in Reno\n",
      "96 Amarcord\n",
      "97 Bob Roberts\n",
      "98 Sixteen Candles\n",
      "99 First Kid\n",
      "100 A Dirty Shame\n",
      "101 The Best Little Whorehouse in Texas\n",
      "102 Tin Men\n",
      "103 Three to Tango\n",
      "104 Sirens\n",
      "105 Annie\n",
      "106 The Story of Us\n",
      "107 50 First Dates\n",
      "108 Beautiful Creatures\n",
      "109 Gentlemen Prefer Blondes\n",
      "110 Saving Face\n",
      "111 Four Weddings and a Funeral\n",
      "112 The Importance of Being Earnest\n",
      "113 Liar Liar\n",
      "114 Grease 2\n",
      "115 Not Another Teen Movie\n",
      "116 What Women Want\n",
      "117 BASEketball\n",
      "118 A Guy Thing\n",
      "119 The Lair of the White Worm\n",
      "120 Paper Moon\n",
      "121 Singin' in the Rain\n",
      "122 Just Visiting\n",
      "123 Fletch Lives\n",
      "124 Pumpkin\n",
      "125 The Cutting Edge\n",
      "126 Along Came Polly\n",
      "127 Home Alone 2: Lost in New York\n",
      "128 My Man Godfrey\n",
      "129 A Cinderella Story\n",
      "130 This Is Spinal Tap\n",
      "131 Town & Country\n",
      "132 My Girl 2\n",
      "133 America's Sweethearts\n",
      "134 Trees Lounge\n",
      "135 Punchline\n",
      "136 Arachnophobia\n",
      "137 The Brothers McMullen\n",
      "138 The Rocky Horror Picture Show\n",
      "139 The Sandlot 2\n",
      "140 Look Who's Talking\n",
      "141 Carolina\n",
      "142 Send Me No Flowers\n",
      "143 How High\n",
      "144 Dirty Work\n",
      "145 Born Yesterday\n",
      "146 The Big Tease\n",
      "147 Back to School\n",
      "148 The Saddest Music in the World\n",
      "149 Top Secret!\n",
      "150 Friday After Next\n",
      "151 Hocus Pocus\n",
      "152 The Computer Wore Tennis Shoes\n",
      "153 Serendipity\n",
      "154 Beauty Shop\n",
      "155 Indiscreet\n",
      "156 Blue Hawaii\n",
      "157 Maid to Order\n",
      "158 Jeff Foxworthy: Totally Committed\n",
      "159 Elf\n",
      "160 Addicted to Love\n",
      "161 Gremlins 2: The New Batch\n",
      "162 Baby Boom\n",
      "163 10\n",
      "164 Polish Wedding\n",
      "165 Moonstruck\n",
      "166 My Favorite Year\n",
      "167 The Commitments\n",
      "168 The Ladykillers\n",
      "169 About Adam\n",
      "170 Cocoon\n",
      "171 Cousins\n",
      "172 Murphy's Romance\n",
      "173 Little Nicky\n",
      "174 The Road to Wellville\n",
      "175 Three Men and a Little Lady\n",
      "176 Frankie and Johnny\n",
      "177 Napoleon Dynamite\n",
      "178 Scary Movie 2\n",
      "179 Private Parts\n",
      "180 Jack Frost\n",
      "181 Guarding Tess\n",
      "182 Bringing Up Baby\n",
      "183 The Opposite of Sex\n",
      "184 Half Baked\n",
      "185 Sideways\n",
      "186 Bananas\n",
      "187 The Parent Trap\n",
      "188 The Family Man\n",
      "189 The Apple Dumpling Gang Rides Again\n",
      "190 10 Things I Hate About You\n",
      "191 Ravenous\n",
      "192 Freddy Got Fingered\n",
      "193 24 Hour Party People\n",
      "194 Lilies of the Field\n",
      "195 Undercover Blues\n",
      "196 Beaches\n",
      "197 Beautiful Thing\n",
      "198 The Odd Couple\n",
      "199 Cowboys & Angels\n",
      "200 Meet the Browns\n",
      "201 200 Cigarettes\n",
      "202 Man on the Moon\n",
      "203 Chocolat\n",
      "204 Encino Man\n",
      "205 My Science Project\n",
      "206 Good Advice\n",
      "207 The Impostors\n",
      "208 So I Married an Axe Murderer\n",
      "209 Boys and Girls\n",
      "210 The Dangerous Lives of Altar Boys\n",
      "211 The Sting\n",
      "212 A Home of Our Own\n",
      "213 The Toy\n",
      "214 Confessions of a Teenage Drama Queen\n",
      "215 Surviving Christmas\n",
      "216 PCU\n",
      "217 Madeline\n",
      "218 Garden State\n",
      "219 Le Divorce\n",
      "220 The Quiet Man\n",
      "221 George Carlin: Carlin at Carnegie\n",
      "222 Torch Song Trilogy\n",
      "223 The Woman in Red\n",
      "224 Silver Streak\n",
      "225 Local Hero\n",
      "226 A Mighty Wind\n",
      "227 Patch Adams\n",
      "228 The Brothers\n",
      "229 Barbershop\n",
      "230 I Think I Do\n",
      "231 Hollywood Shuffle\n",
      "232 Mars Attacks!\n",
      "233 Walking and Talking\n",
      "234 The Mirror Has Two Faces\n",
      "235 Life\n",
      "236 The Full Monty\n",
      "237 Kind Hearts and Coronets\n",
      "238 On the Line\n",
      "239 Police Academy 2: Their First Assignment\n",
      "240 In Good Company\n",
      "241 While You Were Sleeping\n",
      "242 The Last American Virgin\n",
      "243 Woman on Top\n",
      "244 Fever Pitch\n",
      "245 Coffee and Cigarettes\n",
      "246 Porky's\n",
      "247 Tart\n",
      "248 Rookie of the Year\n",
      "249 The Return of the Living Dead\n",
      "250 Blame It on Rio\n",
      "251 The Last Supper\n",
      "252 Me Myself I\n",
      "253 Love Actually\n",
      "254 Wonder Boys\n",
      "255 Club Dread\n"
     ]
    }
   ],
   "source": [
    "x = 0\n",
    "print(\"This is comedy genre reccomendation built for you\")\n",
    "print('\\n')\n",
    "print(\"No\",\"Title\")\n",
    "for i in comedy:\n",
    "    \n",
    "    print(x,i)\n",
    "    x += 1"
   ]
  },
  {
   "cell_type": "code",
   "execution_count": 76,
   "metadata": {},
   "outputs": [
    {
     "name": "stdout",
     "output_type": "stream",
     "text": [
      "This is horror genre reccomendation built for you\n",
      "\n",
      "\n",
      "No Title\n",
      "0 Screamers\n",
      "1 Dead Birds\n",
      "2 Halloween 5: The Revenge of Michael Myers\n",
      "3 The Last House on the Left\n",
      "4 Hellbound: Hellraiser II\n",
      "5 Jaws\n",
      "6 The Lawnmower Man\n",
      "7 The Faculty\n",
      "8 Creepshow\n",
      "9 13 Ghosts\n",
      "10 Silver Bullet\n",
      "11 Freddy vs. Jason\n",
      "12 Valentine\n",
      "13 Poltergeist\n",
      "14 The Serpent and the Rainbow\n",
      "15 The Dead Zone\n",
      "16 The Rage: Carrie 2\n",
      "17 Rosemary's Baby\n",
      "18 Fright Night\n",
      "19 Bram Stoker's Dracula\n",
      "20 Invasion of the Body Snatchers\n",
      "21 The Omen\n",
      "22 Scream 3\n",
      "23 Cujo\n",
      "24 Ghost Ship\n",
      "25 From Hell\n",
      "26 House of the Dead\n",
      "27 The Hunger\n",
      "28 The Addams Family\n",
      "29 A Nightmare on Elm Street 3: Dream Warriors\n",
      "30 The Blob\n",
      "31 28 Days Later\n",
      "32 Once Bitten\n",
      "33 Halloween II\n",
      "34 Saw\n",
      "35 The Seventh Sign\n",
      "36 The Others\n",
      "37 I Still Know What You Did Last Summer\n",
      "38 April Fool's Day\n",
      "39 Bride of Chucky\n",
      "40 A Nightmare on Elm Street\n"
     ]
    }
   ],
   "source": [
    "x = 0\n",
    "print(\"This is horror genre reccomendation built for you\")\n",
    "print('\\n')\n",
    "print(\"No\",\"Title\")\n",
    "for i in horror:\n",
    "    \n",
    "    print(x,i)\n",
    "    x += 1"
   ]
  },
  {
   "cell_type": "code",
   "execution_count": 77,
   "metadata": {},
   "outputs": [
    {
     "name": "stdout",
     "output_type": "stream",
     "text": [
      "This is action genre reccomendation built for you\n",
      "\n",
      "\n",
      "No Title\n",
      "0 7 Seconds\n",
      "1 Never Die Alone\n",
      "2 Justice League\n",
      "3 Jade\n",
      "4 Congo\n",
      "5 Rambo: First Blood Part II\n",
      "6 The Last Shot\n",
      "7 Taking Lives\n",
      "8 Impostor\n",
      "9 The Final Countdown\n",
      "10 Taxi\n",
      "11 The Hebrew Hammer\n",
      "12 The Pacifier\n",
      "13 Tremors 4: The Legend Begins\n",
      "14 Out for Justice\n",
      "15 The Replacement Killers\n",
      "16 Nightbreed\n",
      "17 Kill Bill: Vol. 2\n",
      "18 Rush Hour 2\n",
      "19 Three Days of the Condor\n",
      "20 The Alamo\n",
      "21 Hudson Hawk\n",
      "22 First Knight\n",
      "23 Jimmy Neutron: Boy Genius\n",
      "24 The In-Laws\n",
      "25 Speed\n",
      "26 Armageddon\n",
      "27 Unleashed\n",
      "28 The Last Dragon\n",
      "29 The Quest\n",
      "30 Last Man Standing\n",
      "31 The Poseidon Adventure\n",
      "32 White Squall\n",
      "33 Deep Cover\n",
      "34 Blankman\n",
      "35 I Spy\n",
      "36 The Cowboys\n",
      "37 Rising Sun\n",
      "38 Outrageous Fortune\n",
      "39 Training Day\n",
      "40 Man on Fire\n",
      "41 S.W.A.T.\n",
      "42 The Limey\n",
      "43 No Way Out\n",
      "44 The Recruit\n",
      "45 Belly of the Beast\n",
      "46 Mo' Money\n",
      "47 Shoot to Kill\n",
      "48 Dungeons & Dragons\n",
      "49 Trapped\n",
      "50 The In-Laws\n",
      "51 The Three Musketeers\n",
      "52 The Warriors\n",
      "53 Beverly Hills Cop\n",
      "54 Beverly Hills Cop III\n",
      "55 Death Wish\n",
      "56 Evolution\n",
      "57 The Alamo\n",
      "58 Eye of the Needle\n",
      "59 Under Siege 2: Dark Territory\n",
      "60 Hollow Man\n",
      "61 Under Siege\n",
      "62 K-9\n",
      "63 Holiday in the Sun\n",
      "64 Kickboxer\n",
      "65 The Enforcer\n",
      "66 Nothing to Lose\n",
      "67 Excess Baggage\n",
      "68 Fly Away Home\n",
      "69 Bad Boys\n",
      "70 Ricochet\n",
      "71 Collateral Damage\n",
      "72 Breathless\n",
      "73 Double Team\n",
      "74 The Other Side of Heaven\n",
      "75 The Bourne Supremacy\n",
      "76 Giant\n",
      "77 Man of the House\n",
      "78 Robin and Marian\n",
      "79 Small Time Crooks\n",
      "80 Critters\n",
      "81 Exit Wounds\n",
      "82 Quicksand\n",
      "83 Runaway Train\n",
      "84 The Wash\n",
      "85 Spy Kids 2: The Island of Lost Dreams\n",
      "86 The Hitcher\n",
      "87 Tank Girl\n",
      "88 Braveheart\n",
      "89 The Mark of Zorro\n",
      "90 The Wind and the Lion\n",
      "91 Hellfighters\n",
      "92 Westworld\n",
      "93 Turbulence\n",
      "94 Rollerball\n",
      "95 Damien: Omen II\n",
      "96 Dante's Peak\n",
      "97 Starman\n",
      "98 Stealing Harvard\n",
      "99 Around the World in 80 Days\n",
      "100 Dinotopia\n",
      "101 The Enforcer\n",
      "102 The Longest Day\n",
      "103 Action Jackson\n",
      "104 Chain Reaction\n",
      "105 The Day of the Jackal\n",
      "106 The Vikings\n",
      "107 Exodus\n",
      "108 Masters of the Universe\n",
      "109 Thunderheart\n",
      "110 Men in Black II\n",
      "111 Spy Kids\n",
      "112 Narrow Margin\n",
      "113 Batman: Mask of the Phantasm\n",
      "114 Vampires\n",
      "115 Replicant\n",
      "116 Gun Shy\n",
      "117 2 Fast 2 Furious\n",
      "118 Inspector Gadget 2\n",
      "119 Von Ryan's Express\n",
      "120 Hackers\n",
      "121 The Fighting Seabees\n",
      "122 Commando\n",
      "123 Shakes the Clown\n",
      "124 Used Cars\n",
      "125 Good Guys Wear Black\n",
      "126 Juice\n",
      "127 Southern Comfort\n",
      "128 Van Helsing: The London Assignment\n",
      "129 Armed and Dangerous\n",
      "130 Stargate\n",
      "131 Black Dog\n",
      "132 Superman IV: The Quest for Peace\n",
      "133 Batman Begins\n",
      "134 Ghost in the Shell\n",
      "135 Beverly Hills Ninja\n",
      "136 End of Days\n",
      "137 Thief\n",
      "138 Wrongfully Accused\n",
      "139 Cyborg\n",
      "140 The Big Hit\n",
      "141 Innerspace\n",
      "142 Teenage Mutant Ninja Turtles III\n",
      "143 Code of Silence\n",
      "144 The Scorpion King\n",
      "145 To End All Wars\n",
      "146 Farscape: The Peacekeeper Wars\n",
      "147 A Man Apart\n",
      "148 Undisputed\n",
      "149 The Italian Job\n",
      "150 Ned Kelly\n"
     ]
    }
   ],
   "source": [
    "x = 0\n",
    "print(\"This is action genre reccomendation built for you\")\n",
    "print('\\n')\n",
    "print(\"No\",\"Title\")\n",
    "for i in action:\n",
    "    \n",
    "    print(x,i)\n",
    "    x += 1"
   ]
  },
  {
   "cell_type": "code",
   "execution_count": 78,
   "metadata": {},
   "outputs": [
    {
     "name": "stdout",
     "output_type": "stream",
     "text": [
      "This is family genre reccomendation built for you\n",
      "\n",
      "\n",
      "No Title\n",
      "0 Jingle All the Way\n",
      "1 Stuart Little 2\n",
      "2 Born Free\n",
      "3 Free Willy\n",
      "4 VeggieTales: The Ballad of Little Joe\n",
      "5 The Adventures of Elmo in Grouchland\n",
      "6 D.A.R.Y.L.\n",
      "7 Flight of the Navigator\n",
      "8 Time Bandits\n"
     ]
    }
   ],
   "source": [
    "x = 0\n",
    "print(\"This is family genre reccomendation built for you\")\n",
    "print('\\n')\n",
    "print(\"No\",\"Title\")\n",
    "for i in family:\n",
    "    \n",
    "    print(x,i)\n",
    "    x += 1"
   ]
  }
 ],
 "metadata": {
  "kernelspec": {
   "display_name": "Python 3",
   "language": "python",
   "name": "python3"
  },
  "language_info": {
   "codemirror_mode": {
    "name": "ipython",
    "version": 3
   },
   "file_extension": ".py",
   "mimetype": "text/x-python",
   "name": "python",
   "nbconvert_exporter": "python",
   "pygments_lexer": "ipython3",
   "version": "3.11.0"
  },
  "orig_nbformat": 4,
  "vscode": {
   "interpreter": {
    "hash": "ae2820816265b199a616fda11f9f2f7939b22e031f04fe505c7a9462379d5d50"
   }
  }
 },
 "nbformat": 4,
 "nbformat_minor": 2
}
